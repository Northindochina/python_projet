{
 "cells": [
  {
   "cell_type": "code",
   "execution_count": 194,
   "id": "2a14c60b",
   "metadata": {},
   "outputs": [],
   "source": [
    "import numpy as np\n",
    "import matplotlib.pyplot as plt\n",
    "from scipy.spatial import distance"
   ]
  },
  {
   "cell_type": "code",
   "execution_count": 329,
   "id": "ba760adb-d75b-4efa-aede-d3653863df8d",
   "metadata": {},
   "outputs": [],
   "source": [
    "class TSP:\n",
    "    \n",
    "    def __init__(self,list_pts):\n",
    "        self.list_pts = list_pts\n",
    "        self.solution=[]\n",
    "    \n",
    "    def solve(self):\n",
    "        \n",
    "        \n",
    "        distance_matrix=distance.cdist(self.list_pts, self.list_pts, 'euclidean')\n",
    "        \n",
    "        num_starting_point=np.random.randint(0,len(self.list_pts))\n",
    "        starting_point = self.list_pts[num_starting_point,:]\n",
    "        \n",
    "        self.solution.append(starting_point)\n",
    "        \n",
    "        for i in range(len(self.list_pts)):\n",
    "            \n",
    "            distance_matrix[i,num_starting_point]=float('inf')\n",
    "        \n",
    "        \n",
    "        num_next_point=num_starting_point\n",
    "        \n",
    "        for i in range(len(self.list_pts)):\n",
    "            \n",
    "            num_next_point=np.argmin(distance_matrix[num_next_point,:])\n",
    "            next_point = self.list_pts[num_next_point,:]\n",
    "            self.solution.append(next_point)\n",
    "            \n",
    "            for j in range(len(self.list_pts)):\n",
    "            \n",
    "                distance_matrix[j,num_next_point]=float('inf')\n",
    "        \n",
    "        self.solution.append(starting_point)\n",
    "        return(self.solution)\n",
    "    \n",
    "    def display(self):\n",
    "        \n",
    "        \n",
    "        if (self.solution==[]):\n",
    "                self.solve()\n",
    "                \n",
    "        \n",
    "        x=[i[0] for i in self.solution]\n",
    "        y=[i[1] for i in self.solution]\n",
    "\n",
    "        plt.plot(x, y, marker=\"o\", markerfacecolor=\"r\")\n",
    "        \n",
    "    def cost(self):\n",
    "        \n",
    "        if (self.solution==[]):\n",
    "                self.solve()\n",
    "                \n",
    "        return(np.sum(distance.cdist(self.solution, self.solution, 'euclidean'))/2)\n",
    "        \n",
    "        "
   ]
  },
  {
   "cell_type": "code",
   "execution_count": 332,
   "id": "371c6bbb-b9cc-4279-b4a0-48a98ba274f3",
   "metadata": {
    "scrolled": true
   },
   "outputs": [
    {
     "data": {
      "text/plain": [
       "1149.8173901888645"
      ]
     },
     "execution_count": 332,
     "metadata": {},
     "output_type": "execute_result"
    },
    {
     "data": {
      "image/png": "[encoded data removed]",
      "text/plain": [
       "<Figure size 432x288 with 1 Axes>"
      ]
     },
     "metadata": {
      "needs_background": "light"
     },
     "output_type": "display_data"
    }
   ],
   "source": [
    "test=TSP(np.random.randint(10, size=(20, 2)))\n",
    "test.display()\n",
    "test.cost()"
   ]
  }
 ],
 "metadata": {
  "kernelspec": {
   "display_name": "Python 3",
   "language": "python",
   "name": "python3"
  },
  "language_info": {
   "codemirror_mode": {
    "name": "ipython",
    "version": 3
   },
   "file_extension": ".py",
   "mimetype": "text/x-python",
   "name": "python",
   "nbconvert_exporter": "python",
   "pygments_lexer": "ipython3",
   "version": "3.8.8"
  }
 },
 "nbformat": 4,
 "nbformat_minor": 5
}
