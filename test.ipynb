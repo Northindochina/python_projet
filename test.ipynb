{
 "cells": [
  {
   "cell_type": "code",
   "execution_count": 10,
   "id": "912c6b51",
   "metadata": {},
   "outputs": [],
   "source": [
    "import numpy as np\n",
    "\n",
    "from scipy.spatial import distance"
   ]
  },
  {
   "cell_type": "code",
   "execution_count": 3,
   "id": "ba760adb-d75b-4efa-aede-d3653863df8d",
   "metadata": {},
   "outputs": [],
   "source": [
    "class TSP:\n",
    "    \n",
    "    def __init__(self,list_pts):\n",
    "        self.list_pts = list_pts\n",
    "        \n",
    "    \n",
    "    def solve(self):\n",
    "        \n",
    "        distance_matrix=distance.cdist(self.list_pts, self.list_pts, 'euclidean')\n",
    "        \n",
    "        num_starting_point=np.random.randint(0,len(self.list_pts))\n",
    "        starting_point = self.list_pts[num_starting_point,:]\n",
    "        \n",
    "        \n",
    "        \n",
    "        \n",
    "    \n",
    "    def cost(self):\n",
    "        \n",
    "        \n",
    "        \n",
    "        "
   ]
  },
  {
   "cell_type": "code",
   "execution_count": 4,
   "id": "371c6bbb-b9cc-4279-b4a0-48a98ba274f3",
   "metadata": {},
   "outputs": [],
   "source": [
    "test=TSP(np.arange(20).reshape(10,2))"
   ]
  },
  {
   "cell_type": "code",
   "execution_count": 11,
   "id": "dc71908f-9534-4696-b0b0-7ff8765c447d",
   "metadata": {},
   "outputs": [
    {
     "data": {
      "text/plain": [
       "array([[ 0.        ,  2.82842712,  5.65685425,  8.48528137, 11.3137085 ,\n",
       "        14.14213562, 16.97056275, 19.79898987, 22.627417  , 25.45584412],\n",
       "       [ 2.82842712,  0.        ,  2.82842712,  5.65685425,  8.48528137,\n",
       "        11.3137085 , 14.14213562, 16.97056275, 19.79898987, 22.627417  ],\n",
       "       [ 5.65685425,  2.82842712,  0.        ,  2.82842712,  5.65685425,\n",
       "         8.48528137, 11.3137085 , 14.14213562, 16.97056275, 19.79898987],\n",
       "       [ 8.48528137,  5.65685425,  2.82842712,  0.        ,  2.82842712,\n",
       "         5.65685425,  8.48528137, 11.3137085 , 14.14213562, 16.97056275],\n",
       "       [11.3137085 ,  8.48528137,  5.65685425,  2.82842712,  0.        ,\n",
       "         2.82842712,  5.65685425,  8.48528137, 11.3137085 , 14.14213562],\n",
       "       [14.14213562, 11.3137085 ,  8.48528137,  5.65685425,  2.82842712,\n",
       "         0.        ,  2.82842712,  5.65685425,  8.48528137, 11.3137085 ],\n",
       "       [16.97056275, 14.14213562, 11.3137085 ,  8.48528137,  5.65685425,\n",
       "         2.82842712,  0.        ,  2.82842712,  5.65685425,  8.48528137],\n",
       "       [19.79898987, 16.97056275, 14.14213562, 11.3137085 ,  8.48528137,\n",
       "         5.65685425,  2.82842712,  0.        ,  2.82842712,  5.65685425],\n",
       "       [22.627417  , 19.79898987, 16.97056275, 14.14213562, 11.3137085 ,\n",
       "         8.48528137,  5.65685425,  2.82842712,  0.        ,  2.82842712],\n",
       "       [25.45584412, 22.627417  , 19.79898987, 16.97056275, 14.14213562,\n",
       "        11.3137085 ,  8.48528137,  5.65685425,  2.82842712,  0.        ]])"
      ]
     },
     "execution_count": 11,
     "metadata": {},
     "output_type": "execute_result"
    }
   ],
   "source": [
    "\n",
    "coords=np.arange(20).reshape(10,2)\n",
    "\n",
    "distance.cdist(coords, coords, 'euclidean')\n"
   ]
  },
  {
   "cell_type": "code",
   "execution_count": 152,
   "id": "293d3b95",
   "metadata": {},
   "outputs": [
    {
     "data": {
      "text/plain": [
       "4"
      ]
     },
     "execution_count": 152,
     "metadata": {},
     "output_type": "execute_result"
    }
   ],
   "source": [
    "dist_matrix=distance.cdist(coords, coords, 'euclidean')\n",
    "\n",
    "\n",
    "np.random.randint(0,len(np.arange(20).reshape(10,2)))\n",
    "\n",
    "np.argmin(dist_matrix[np.random.randint(0,len(np.arange(20).reshape(10,2)))\n",
    ",:])"
   ]
  }
 ],
 "metadata": {
  "kernelspec": {
   "display_name": "Python 3",
   "language": "python",
   "name": "python3"
  },
  "language_info": {
   "codemirror_mode": {
    "name": "ipython",
    "version": 3
   },
   "file_extension": ".py",
   "mimetype": "text/x-python",
   "name": "python",
   "nbconvert_exporter": "python",
   "pygments_lexer": "ipython3",
   "version": "3.8.8"
  }
 },
 "nbformat": 4,
 "nbformat_minor": 5
}
