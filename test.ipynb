{
 "cells": [
  {
   "cell_type": "code",
   "execution_count": 72,
   "id": "9e565781",
   "metadata": {},
   "outputs": [],
   "source": [
    "import numpy as np\n",
    "import matplotlib.pyplot as plt\n",
    "from scipy.spatial import distance\n",
    "\n",
    "import time\n"
   ]
  },
  {
   "cell_type": "code",
   "execution_count": 57,
   "id": "ba760adb-d75b-4efa-aede-d3653863df8d",
   "metadata": {},
   "outputs": [],
   "source": [
    "class TSP:\n",
    "    \n",
    "    def __init__(self,list_pts):\n",
    "        self.list_pts = list_pts\n",
    "        self.solution=[]\n",
    "    \n",
    "    def solve(self):\n",
    "        \n",
    "        current_cost=float('inf')\n",
    "        \n",
    "        for k in range(len(self.list_pts)):\n",
    "            \n",
    "            current_solution=[]\n",
    "            \n",
    "            \n",
    "            distance_matrix=distance.cdist(self.list_pts, self.list_pts, 'euclidean')\n",
    "\n",
    "            num_starting_point=k\n",
    "            starting_point = self.list_pts[num_starting_point,:]\n",
    "            \n",
    "            \n",
    "            \n",
    "            current_solution.append(starting_point)\n",
    "\n",
    "            for i in range(len(self.list_pts)):\n",
    "\n",
    "                distance_matrix[i,i]=float('inf')\n",
    "                distance_matrix[i,num_starting_point]=float('inf')\n",
    "\n",
    "\n",
    "            num_next_point=num_starting_point\n",
    "\n",
    "            for i in [i for i in range(len(self.list_pts)) if  i!=num_starting_point]:\n",
    "\n",
    "                num_next_point=np.argmin(distance_matrix[num_next_point,:])\n",
    "                next_point = self.list_pts[num_next_point,:]\n",
    "                current_solution.append(next_point)\n",
    "\n",
    "                for j in range(len(self.list_pts)):\n",
    "\n",
    "                    distance_matrix[j,num_next_point]=float('inf')\n",
    "\n",
    "            current_solution.append(starting_point)\n",
    "            if self.cost(current_solution)<self.cost(self.solution):\n",
    "                self.solution=current_solution\n",
    "                \n",
    "                \n",
    "        return(self.solution)\n",
    "    \n",
    "    def display(self):\n",
    "        \n",
    "        if (self.solution==[]):\n",
    "                self.solve()\n",
    "                \n",
    "        \n",
    "        x=[i[0] for i in self.solution]\n",
    "        y=[i[1] for i in self.solution]\n",
    "\n",
    "        plt.plot(x, y, marker=\"o\", markerfacecolor=\"r\")\n",
    "        \n",
    "    def cost(self,current_list):\n",
    "        \n",
    "        if (current_list!=[]):\n",
    "                return(np.sum(distance.cdist(current_list, current_list, 'euclidean'))/2)\n",
    "        else:\n",
    "                return(float('inf'))\n",
    "        \n",
    "        "
   ]
  },
  {
   "cell_type": "code",
   "execution_count": 94,
   "id": "3e6e8e0c",
   "metadata": {},
   "outputs": [
    {
     "data": {
      "text/plain": [
       "array([[28, 15],\n",
       "       [17, 22],\n",
       "       [29, 18],\n",
       "       [13, 20],\n",
       "       [23, 14],\n",
       "       [ 7, 16],\n",
       "       [19, 24],\n",
       "       [ 6, 11],\n",
       "       [ 4,  2],\n",
       "       [27,  9],\n",
       "       [ 3, 25],\n",
       "       [12, 10],\n",
       "       [26,  5],\n",
       "       [ 8,  1],\n",
       "       [21,  0]])"
      ]
     },
     "execution_count": 94,
     "metadata": {},
     "output_type": "execute_result"
    }
   ],
   "source": [
    "# list of integers from 1 to 99\n",
    "                           # adjust this boundaries to fit your needs\n",
    "import random\n",
    "\n",
    "\n",
    "nums = list(range(0, 30)) # list of integers from 1 to 99\n",
    "                           # adjust this boundaries to fit your needs\n",
    "random.shuffle(nums)\n",
    "\n",
    "pts_list=np.array(nums).reshape((15,2))\n",
    "pts_list\n",
    "\n"
   ]
  },
  {
   "cell_type": "code",
   "execution_count": 80,
   "id": "371c6bbb-b9cc-4279-b4a0-48a98ba274f3",
   "metadata": {
    "scrolled": true
   },
   "outputs": [
    {
     "name": "stdout",
     "output_type": "stream",
     "text": [
      "0.030999999959021807\n"
     ]
    },
    {
     "data": {
      "image/png": "[encoded data removed]",
      "text/plain": [
       "<Figure size 432x288 with 1 Axes>"
      ]
     },
     "metadata": {
      "needs_background": "light"
     },
     "output_type": "display_data"
    }
   ],
   "source": [
    "test=TSP(pts_list)\n",
    "\n",
    "\n",
    "#test.solution\n",
    "\n",
    "start = time.monotonic()\n",
    "test.display()\n",
    "end = time.monotonic()\n",
    "print(end - start)"
   ]
  }
 ],
 "metadata": {
  "kernelspec": {
   "display_name": "Python 3",
   "language": "python",
   "name": "python3"
  },
  "language_info": {
   "codemirror_mode": {
    "name": "ipython",
    "version": 3
   },
   "file_extension": ".py",
   "mimetype": "text/x-python",
   "name": "python",
   "nbconvert_exporter": "python",
   "pygments_lexer": "ipython3",
   "version": "3.8.8"
  }
 },
 "nbformat": 4,
 "nbformat_minor": 5
}
