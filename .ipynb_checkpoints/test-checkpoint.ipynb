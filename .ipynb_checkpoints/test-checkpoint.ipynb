{
 "cells": [
  {
   "cell_type": "code",
   "execution_count": 59,
   "id": "9e565781",
   "metadata": {},
   "outputs": [],
   "source": [
    "import numpy as np\n",
    "import matplotlib.pyplot as plt\n",
    "from scipy.spatial import distance\n",
    "\n",
    "import timeit\n"
   ]
  },
  {
   "cell_type": "code",
   "execution_count": 57,
   "id": "ba760adb-d75b-4efa-aede-d3653863df8d",
   "metadata": {},
   "outputs": [],
   "source": [
    "class TSP:\n",
    "    \n",
    "    def __init__(self,list_pts):\n",
    "        self.list_pts = list_pts\n",
    "        self.solution=[]\n",
    "    \n",
    "    def solve(self):\n",
    "        \n",
    "        current_cost=float('inf')\n",
    "        \n",
    "        for k in range(len(self.list_pts)):\n",
    "            \n",
    "            current_solution=[]\n",
    "            \n",
    "            \n",
    "            distance_matrix=distance.cdist(self.list_pts, self.list_pts, 'euclidean')\n",
    "\n",
    "            num_starting_point=k\n",
    "            starting_point = self.list_pts[num_starting_point,:]\n",
    "            \n",
    "            \n",
    "            \n",
    "            current_solution.append(starting_point)\n",
    "\n",
    "            for i in range(len(self.list_pts)):\n",
    "\n",
    "                distance_matrix[i,i]=float('inf')\n",
    "                distance_matrix[i,num_starting_point]=float('inf')\n",
    "\n",
    "\n",
    "            num_next_point=num_starting_point\n",
    "\n",
    "            for i in [i for i in range(len(self.list_pts)) if  i!=num_starting_point]:\n",
    "\n",
    "                num_next_point=np.argmin(distance_matrix[num_next_point,:])\n",
    "                next_point = self.list_pts[num_next_point,:]\n",
    "                current_solution.append(next_point)\n",
    "\n",
    "                for j in range(len(self.list_pts)):\n",
    "\n",
    "                    distance_matrix[j,num_next_point]=float('inf')\n",
    "\n",
    "            current_solution.append(starting_point)\n",
    "            if self.cost(current_solution)<self.cost(self.solution):\n",
    "                self.solution=current_solution\n",
    "                \n",
    "                \n",
    "        return(self.solution)\n",
    "    \n",
    "    def display(self):\n",
    "        \n",
    "        if (self.solution==[]):\n",
    "                self.solve()\n",
    "                \n",
    "        \n",
    "        x=[i[0] for i in self.solution]\n",
    "        y=[i[1] for i in self.solution]\n",
    "\n",
    "        plt.plot(x, y, marker=\"o\", markerfacecolor=\"r\")\n",
    "        \n",
    "    def cost(self,current_list):\n",
    "        \n",
    "        if (current_list!=[]):\n",
    "                return(np.sum(distance.cdist(current_list, current_list, 'euclidean'))/2)\n",
    "        else:\n",
    "                return(float('inf'))\n",
    "        \n",
    "        "
   ]
  },
  {
   "cell_type": "code",
   "execution_count": 61,
   "id": "eb1c5511",
   "metadata": {},
   "outputs": [
    {
     "data": {
      "text/plain": [
       "array([[7, 1],\n",
       "       [4, 0],\n",
       "       [8, 4],\n",
       "       ...,\n",
       "       [1, 6],\n",
       "       [0, 1],\n",
       "       [5, 0]])"
      ]
     },
     "execution_count": 61,
     "metadata": {},
     "output_type": "execute_result"
    }
   ],
   "source": [
    "pts_list=np.random.randint(10, size=(1000, 2))\n",
    "pts_list"
   ]
  },
  {
   "cell_type": "code",
   "execution_count": 62,
   "id": "371c6bbb-b9cc-4279-b4a0-48a98ba274f3",
   "metadata": {
    "scrolled": true
   },
   "outputs": [
    {
     "ename": "KeyboardInterrupt",
     "evalue": "",
     "output_type": "error",
     "traceback": [
      "\u001b[1;31m---------------------------------------------------------------------------\u001b[0m",
      "\u001b[1;31mKeyboardInterrupt\u001b[0m                         Traceback (most recent call last)",
      "\u001b[1;32m<ipython-input-62-2ce2c4853192>\u001b[0m in \u001b[0;36m<module>\u001b[1;34m\u001b[0m\n\u001b[0;32m      5\u001b[0m \u001b[1;33m\u001b[0m\u001b[0m\n\u001b[0;32m      6\u001b[0m \u001b[0mstart\u001b[0m \u001b[1;33m=\u001b[0m \u001b[0mtimeit\u001b[0m\u001b[1;33m.\u001b[0m\u001b[0mtimeit\u001b[0m\u001b[1;33m(\u001b[0m\u001b[1;33m)\u001b[0m\u001b[1;33m\u001b[0m\u001b[1;33m\u001b[0m\u001b[0m\n\u001b[1;32m----> 7\u001b[1;33m \u001b[0mtest\u001b[0m\u001b[1;33m.\u001b[0m\u001b[0mdisplay\u001b[0m\u001b[1;33m(\u001b[0m\u001b[1;33m)\u001b[0m\u001b[1;33m\u001b[0m\u001b[1;33m\u001b[0m\u001b[0m\n\u001b[0m\u001b[0;32m      8\u001b[0m \u001b[0mend\u001b[0m \u001b[1;33m=\u001b[0m \u001b[0mtimeit\u001b[0m\u001b[1;33m.\u001b[0m\u001b[0mtimeit\u001b[0m\u001b[1;33m(\u001b[0m\u001b[1;33m)\u001b[0m\u001b[1;33m\u001b[0m\u001b[1;33m\u001b[0m\u001b[0m\n\u001b[0;32m      9\u001b[0m \u001b[0mprint\u001b[0m\u001b[1;33m(\u001b[0m\u001b[0mend\u001b[0m \u001b[1;33m-\u001b[0m \u001b[0mstart\u001b[0m\u001b[1;33m)\u001b[0m\u001b[1;33m\u001b[0m\u001b[1;33m\u001b[0m\u001b[0m\n",
      "\u001b[1;32m<ipython-input-57-6820bee5c14f>\u001b[0m in \u001b[0;36mdisplay\u001b[1;34m(self)\u001b[0m\n\u001b[0;32m     51\u001b[0m \u001b[1;33m\u001b[0m\u001b[0m\n\u001b[0;32m     52\u001b[0m         \u001b[1;32mif\u001b[0m \u001b[1;33m(\u001b[0m\u001b[0mself\u001b[0m\u001b[1;33m.\u001b[0m\u001b[0msolution\u001b[0m\u001b[1;33m==\u001b[0m\u001b[1;33m[\u001b[0m\u001b[1;33m]\u001b[0m\u001b[1;33m)\u001b[0m\u001b[1;33m:\u001b[0m\u001b[1;33m\u001b[0m\u001b[1;33m\u001b[0m\u001b[0m\n\u001b[1;32m---> 53\u001b[1;33m                 \u001b[0mself\u001b[0m\u001b[1;33m.\u001b[0m\u001b[0msolve\u001b[0m\u001b[1;33m(\u001b[0m\u001b[1;33m)\u001b[0m\u001b[1;33m\u001b[0m\u001b[1;33m\u001b[0m\u001b[0m\n\u001b[0m\u001b[0;32m     54\u001b[0m \u001b[1;33m\u001b[0m\u001b[0m\n\u001b[0;32m     55\u001b[0m \u001b[1;33m\u001b[0m\u001b[0m\n",
      "\u001b[1;32m<ipython-input-57-6820bee5c14f>\u001b[0m in \u001b[0;36msolve\u001b[1;34m(self)\u001b[0m\n\u001b[0;32m     39\u001b[0m                 \u001b[1;32mfor\u001b[0m \u001b[0mj\u001b[0m \u001b[1;32min\u001b[0m \u001b[0mrange\u001b[0m\u001b[1;33m(\u001b[0m\u001b[0mlen\u001b[0m\u001b[1;33m(\u001b[0m\u001b[0mself\u001b[0m\u001b[1;33m.\u001b[0m\u001b[0mlist_pts\u001b[0m\u001b[1;33m)\u001b[0m\u001b[1;33m)\u001b[0m\u001b[1;33m:\u001b[0m\u001b[1;33m\u001b[0m\u001b[1;33m\u001b[0m\u001b[0m\n\u001b[0;32m     40\u001b[0m \u001b[1;33m\u001b[0m\u001b[0m\n\u001b[1;32m---> 41\u001b[1;33m                     \u001b[0mdistance_matrix\u001b[0m\u001b[1;33m[\u001b[0m\u001b[0mj\u001b[0m\u001b[1;33m,\u001b[0m\u001b[0mnum_next_point\u001b[0m\u001b[1;33m]\u001b[0m\u001b[1;33m=\u001b[0m\u001b[0mfloat\u001b[0m\u001b[1;33m(\u001b[0m\u001b[1;34m'inf'\u001b[0m\u001b[1;33m)\u001b[0m\u001b[1;33m\u001b[0m\u001b[1;33m\u001b[0m\u001b[0m\n\u001b[0m\u001b[0;32m     42\u001b[0m \u001b[1;33m\u001b[0m\u001b[0m\n\u001b[0;32m     43\u001b[0m             \u001b[0mcurrent_solution\u001b[0m\u001b[1;33m.\u001b[0m\u001b[0mappend\u001b[0m\u001b[1;33m(\u001b[0m\u001b[0mstarting_point\u001b[0m\u001b[1;33m)\u001b[0m\u001b[1;33m\u001b[0m\u001b[1;33m\u001b[0m\u001b[0m\n",
      "\u001b[1;31mKeyboardInterrupt\u001b[0m: "
     ]
    }
   ],
   "source": [
    "test=TSP(pts_list)\n",
    "\n",
    "\n",
    "#test.solution\n",
    "\n",
    "start = timeit.timeit()\n",
    "test.display()\n",
    "end = timeit.timeit()\n",
    "print(end - start)"
   ]
  }
 ],
 "metadata": {
  "kernelspec": {
   "display_name": "Python 3",
   "language": "python",
   "name": "python3"
  },
  "language_info": {
   "codemirror_mode": {
    "name": "ipython",
    "version": 3
   },
   "file_extension": ".py",
   "mimetype": "text/x-python",
   "name": "python",
   "nbconvert_exporter": "python",
   "pygments_lexer": "ipython3",
   "version": "3.8.8"
  }
 },
 "nbformat": 4,
 "nbformat_minor": 5
}
